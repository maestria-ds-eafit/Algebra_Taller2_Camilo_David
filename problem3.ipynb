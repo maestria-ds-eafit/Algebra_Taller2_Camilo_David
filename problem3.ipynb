{
 "cells": [
  {
   "cell_type": "code",
   "execution_count": 42,
   "metadata": {},
   "outputs": [],
   "source": [
    "import numpy as np\n",
    "\n",
    "def get_unique_solution(L, b):\n",
    "    n = len(L)\n",
    "    x = np.zeros(n)\n",
    "\n",
    "    for i in range(n):\n",
    "        x[i] = b[i]\n",
    "        for j in range(i):\n",
    "            x[i] -= L[i][j] * x[j]\n",
    "        x[i] /= L[i][i]\n",
    "\n",
    "    return x\n",
    "\n",
    "def get_infinite_solutions(L, b):\n",
    "    n = len(L)\n",
    "    x = np.zeros(n)\n",
    "\n",
    "    free_vectors_bases = {}\n",
    "    has_free_vectors = False\n",
    "    for i in range(n):\n",
    "        if L[i][i] == 0:\n",
    "            net = b[i]\n",
    "            for j in range(i):\n",
    "                net -= L[i][j] * x[j]\n",
    "            if net != 0:\n",
    "                raise Exception(\"No hay solución\")\n",
    "            free_vector_base = np.zeros(n)\n",
    "            free_vector_base[i] = 1\n",
    "            free_vectors_bases[i] = free_vector_base\n",
    "            has_free_vectors = True\n",
    "        else:\n",
    "            if has_free_vectors:\n",
    "                x[i] += b[i] / L[i][i]\n",
    "                for j in range(i):\n",
    "                    if j in free_vectors_bases:\n",
    "                        free_vectors_bases[j][i] -= (L[i][j]) / L[i][i]\n",
    "                    else:\n",
    "                        x[i] -= (L[i][j] * x[j]) / L[i][i]\n",
    "            else:\n",
    "                x[i] = b[i]\n",
    "                for j in range(i):\n",
    "                    x[i] -= L[i][j] * x[j]\n",
    "                x[i] /= L[i][i]\n",
    "\n",
    "    return x, list(free_vectors_bases.values())\n",
    "\n",
    "def forward_substitution(L, b):\n",
    "    diag = np.diag(L)\n",
    "    has_infinite_solutions = np.any(diag == 0)\n",
    "    if has_infinite_solutions:\n",
    "        x, free_vectors_bases = get_infinite_solutions(L, b)\n",
    "        print(\"Existen soluciones infinitas\")\n",
    "        print(\"Solución particular:\", x)\n",
    "        print(\"Base para el espacio nulo:\", free_vectors_bases)\n",
    "        return x, free_vectors_bases\n",
    "    else:\n",
    "        result = get_unique_solution(L, b)\n",
    "        print(\"Existe solución única:\\n\", result)\n",
    "        return result\n"
   ]
  },
  {
   "cell_type": "code",
   "execution_count": 43,
   "metadata": {},
   "outputs": [
    {
     "name": "stdout",
     "output_type": "stream",
     "text": [
      "Existen soluciones infinitas\n",
      "Solución particular: [ 1.          0.         -0.33333333]\n",
      "Base para el espacio nulo: [array([ 0.        ,  1.        , -1.66666667])]\n"
     ]
    }
   ],
   "source": [
    "L = np.array([[1, 0, 0], [2, 0, 0], [4, 5, 3]])\n",
    "b = np.array([1, 2, 3])\n",
    "result = forward_substitution(L, b)"
   ]
  },
  {
   "cell_type": "code",
   "execution_count": null,
   "metadata": {},
   "outputs": [],
   "source": []
  }
 ],
 "metadata": {
  "kernelspec": {
   "display_name": "Algebra_Taller2_Camilo_David-FWjzfZSr",
   "language": "python",
   "name": "python3"
  },
  "language_info": {
   "codemirror_mode": {
    "name": "ipython",
    "version": 3
   },
   "file_extension": ".py",
   "mimetype": "text/x-python",
   "name": "python",
   "nbconvert_exporter": "python",
   "pygments_lexer": "ipython3",
   "version": "3.11.5"
  }
 },
 "nbformat": 4,
 "nbformat_minor": 2
}
