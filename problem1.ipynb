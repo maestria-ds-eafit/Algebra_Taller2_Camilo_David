{
 "cells": [
  {
   "cell_type": "markdown",
   "metadata": {},
   "source": [
    "# Problema 1 "
   ]
  },
  {
   "cell_type": "code",
   "execution_count": 21,
   "metadata": {},
   "outputs": [],
   "source": [
    "import numpy as np"
   ]
  },
  {
   "cell_type": "markdown",
   "metadata": {},
   "source": [
    "## A"
   ]
  },
  {
   "cell_type": "code",
   "execution_count": 22,
   "metadata": {},
   "outputs": [
    {
     "name": "stdout",
     "output_type": "stream",
     "text": [
      "Precio por hora en A: $40.00, en B: $10.00 y en C: $20.00\n"
     ]
    }
   ],
   "source": [
    "A = np.array([[2, 4, 5], [6, 9, 8], [4.1, 5, 3]])\n",
    "\n",
    "B = np.array([220, 490, 274])\n",
    "\n",
    "X = np.linalg.solve(A, B)\n",
    "\n",
    "price_1, price_2, price_3 = X\n",
    "\n",
    "print(\n",
    "    f\"Precio por hora en A: ${price_1:.2f}, en B: ${price_2:.2f} y en C: ${price_3:.2f}\"\n",
    ")"
   ]
  },
  {
   "cell_type": "markdown",
   "metadata": {},
   "source": [
    "## B"
   ]
  },
  {
   "cell_type": "code",
   "execution_count": 23,
   "metadata": {},
   "outputs": [
    {
     "name": "stdout",
     "output_type": "stream",
     "text": [
      "Precio por hora en A: $20.000000, en B: $31.538462 y en C: $10.769231\n"
     ]
    }
   ],
   "source": [
    "A_bar = np.array([[2, 4, 5], [6, 9, 8], [4.2, 5, 3]])\n",
    "\n",
    "B = np.array([220, 490, 274])\n",
    "\n",
    "X_bar = np.linalg.solve(A_bar, B)\n",
    "\n",
    "price_4, price_5, price_6 = X_bar\n",
    "\n",
    "print(\n",
    "    f\"Precio por hora en A: ${price_4:.6f}, en B: ${price_5:.6f} y en C: ${price_6:.6f}\"\n",
    ")"
   ]
  },
  {
   "cell_type": "markdown",
   "metadata": {},
   "source": [
    "Debido a que por un cambio menor en un coeficiente se produjo un cambio significativo en la solución, podemos concluir que el sistema está mal condicionado, y por lo tanto los resultados obtenidos con estos sistemas nos son confiables para tomar decisiones."
   ]
  },
  {
   "cell_type": "markdown",
   "metadata": {},
   "source": [
    "Calculamos el numero de condición K con norma infinito"
   ]
  },
  {
   "cell_type": "code",
   "execution_count": 24,
   "metadata": {},
   "outputs": [
    {
     "name": "stdout",
     "output_type": "stream",
     "text": [
      "Numero de condición K:\n",
      "766.0769230769299\n",
      "Matriz inversa:\n",
      "[[ 10.         -10.          10.        ]\n",
      " [-11.38461538  11.15384615 -10.76923077]\n",
      " [  5.30769231  -4.92307692   4.61538462]]\n",
      "Determinante de la matriz A:\n",
      "-1.2999999999999883\n"
     ]
    }
   ],
   "source": [
    "K = np.linalg.cond(A, p=np.inf)\n",
    "inversa = np.linalg.inv(A)\n",
    "determinante = np.linalg.det(A)\n",
    "\n",
    "print(f\"Numero de condición K:\\n{K}\")\n",
    "print(f\"Matriz inversa:\\n{inversa}\")\n",
    "print(f\"Determinante de la matriz A:\\n{determinante}\")\n"
   ]
  },
  {
   "cell_type": "markdown",
   "metadata": {},
   "source": [
    "Haciendo una investigación exhaustiva, la cota superior cuando hay perturbaciones en un la matriz de coeficientes A es igual a ||A_matriz_perturbada^(-1)|| * ||A_matriz_perturbada - A_verdadera||"
   ]
  },
  {
   "cell_type": "code",
   "execution_count": 25,
   "metadata": {},
   "outputs": [
    {
     "name": "stdout",
     "output_type": "stream",
     "text": [
      "Error relativo de la solución:\n",
      " 0.5384615384615408\n",
      "Cota superior del error relativo del valor hora:\n",
      " 1.7153846153846295\n"
     ]
    }
   ],
   "source": [
    "delta_x = X - X_bar\n",
    "delta_A = A_bar - A\n",
    "error_relativo_x = np.linalg.norm(delta_x, np.inf) / np.linalg.norm(X, np.inf)\n",
    "cota_error_relativo = np.linalg.norm(np.linalg.inv(A_bar), np.inf) * np.linalg.norm(delta_A, np.inf)\n",
    "print(f\"Error relativo de la solución:\\n {error_relativo_x}\")\n",
    "print(f\"Cota superior del error relativo del valor hora:\\n {cota_error_relativo}\")"
   ]
  },
  {
   "cell_type": "markdown",
   "metadata": {},
   "source": [
    "La magnitud del error relativo de la solución puede variar hasta un 171%"
   ]
  },
  {
   "cell_type": "markdown",
   "metadata": {},
   "source": [
    "Debido a que la variación en el vector solución es muy superior a la variación de la matriz de coeficientes, se concluye que es un sistema mal condicionado."
   ]
  },
  {
   "cell_type": "markdown",
   "metadata": {},
   "source": [
    "## Referencias\n",
    "\n",
    "* http://blog.espol.edu.ec/econde/files/2012/08/AN-13_SISTEMAS_MAL_CONDICIONADOS.pdf\n",
    "* https://math.stackexchange.com/questions/2328816/relative-error-in-solution-when-the-matrix-is-perturbed"
   ]
  }
 ],
 "metadata": {
  "kernelspec": {
   "display_name": "Algebra_Taller2_Camilo_David-f55ETFHP",
   "language": "python",
   "name": "python3"
  },
  "language_info": {
   "codemirror_mode": {
    "name": "ipython",
    "version": 3
   },
   "file_extension": ".py",
   "mimetype": "text/x-python",
   "name": "python",
   "nbconvert_exporter": "python",
   "pygments_lexer": "ipython3",
   "version": "3.11.5"
  },
  "orig_nbformat": 4
 },
 "nbformat": 4,
 "nbformat_minor": 2
}
