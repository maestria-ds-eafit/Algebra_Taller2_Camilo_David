{
 "cells": [
  {
   "cell_type": "markdown",
   "metadata": {},
   "source": [
    "# Problema 1 "
   ]
  },
  {
   "cell_type": "markdown",
   "metadata": {},
   "source": [
    "## A"
   ]
  },
  {
   "cell_type": "code",
   "execution_count": 64,
   "metadata": {},
   "outputs": [],
   "source": [
    "import numpy as np"
   ]
  },
  {
   "cell_type": "code",
   "execution_count": 65,
   "metadata": {},
   "outputs": [
    {
     "name": "stdout",
     "output_type": "stream",
     "text": [
      "Precio por hora en A: $40.00, en B: $10.00 y en C: $20.00\n"
     ]
    }
   ],
   "source": [
    "coefficients = np.array([[2, 4, 5],\n",
    "                         [6, 9, 8],\n",
    "                         [4.1, 5, 3]])\n",
    "\n",
    "costs = np.array([220, 490, 274])\n",
    "\n",
    "solucion_original  = np.linalg.solve(coefficients, costs)\n",
    "\n",
    "price_A, price_B, price_C = solucion_original \n",
    "\n",
    "print(f\"Precio por hora en A: ${price_A:.2f}, en B: ${price_B:.2f} y en C: ${price_C:.2f}\")"
   ]
  },
  {
   "cell_type": "markdown",
   "metadata": {},
   "source": [
    "## B"
   ]
  },
  {
   "cell_type": "code",
   "execution_count": 66,
   "metadata": {},
   "outputs": [
    {
     "name": "stdout",
     "output_type": "stream",
     "text": [
      "Precio por hora en A: $20.000000, en B: $31.538462 y en C: $10.769231\n"
     ]
    }
   ],
   "source": [
    "coefficients2 = np.array([[2, 4, 5],\n",
    "                         [6, 9, 8],\n",
    "                         [4.2, 5, 3]])\n",
    "\n",
    "costs2 = np.array([220, 490, 274])\n",
    "\n",
    "solucion_despues_del_error  = np.linalg.solve(coefficients2, costs2)\n",
    "\n",
    "price_A, price_B, price_C = solucion_despues_del_error \n",
    "\n",
    "print(f\"Precio por hora en A: ${price_A:.6f}, en B: ${price_B:.6f} y en C: ${price_C:.6f}\")"
   ]
  },
  {
   "cell_type": "markdown",
   "metadata": {},
   "source": [
    "podemos concluir que el sistema está mal condicionado a pequeñas perturbaciones en los coeficientes"
   ]
  },
  {
   "cell_type": "code",
   "execution_count": 90,
   "metadata": {},
   "outputs": [
    {
     "name": "stdout",
     "output_type": "stream",
     "text": [
      "Error Relativo en la Solución: 0.6722784379348695 \n",
      " K original: 449.8563226547252 \n",
      " K despues del error: 230.19749072982796\n",
      "Cota Superior para el Error Relativo:\n",
      " [[0.         0.         0.        ]\n",
      " [0.         0.         0.        ]\n",
      " [2.70385216 0.         0.        ]]\n"
     ]
    }
   ],
   "source": [
    "error_relativo = np.linalg.norm(solucion_despues_del_error - solucion_original ) / np.linalg.norm(solucion_original )\n",
    "K_original = np.linalg.cond(coefficients)\n",
    "K_despues_del_error = np.linalg.cond(coefficients2)\n",
    "print(\"Error Relativo en la Solución:\", error_relativo,\"\\n K original:\", K_original, \"\\n K despues del error:\", K_despues_del_error)\n",
    "\n",
    "#otro calculo\n",
    "delta_x = solucion_despues_del_error - solucion_original\n",
    "x_norm = np.linalg.norm(solucion_original)\n",
    "delta_A = coefficients2 - coefficients\n",
    "A_norm = np.linalg.norm(coefficients)\n",
    "error_relativo_sup = K_original * (delta_A / A_norm)\n",
    "print(\"Cota Superior para el Error Relativo:\\n\", error_relativo_sup)"
   ]
  }
 ],
 "metadata": {
  "kernelspec": {
   "display_name": "Algebra_Taller2_Camilo_David-f55ETFHP",
   "language": "python",
   "name": "python3"
  },
  "language_info": {
   "codemirror_mode": {
    "name": "ipython",
    "version": 3
   },
   "file_extension": ".py",
   "mimetype": "text/x-python",
   "name": "python",
   "nbconvert_exporter": "python",
   "pygments_lexer": "ipython3",
   "version": "3.11.5"
  },
  "orig_nbformat": 4
 },
 "nbformat": 4,
 "nbformat_minor": 2
}
