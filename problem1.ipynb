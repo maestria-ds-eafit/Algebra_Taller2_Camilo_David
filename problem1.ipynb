{
 "cells": [
  {
   "cell_type": "markdown",
   "metadata": {},
   "source": [
    "# Problema 1 "
   ]
  },
  {
   "cell_type": "markdown",
   "metadata": {},
   "source": [
    "## A"
   ]
  },
  {
   "cell_type": "code",
   "execution_count": 1,
   "metadata": {},
   "outputs": [],
   "source": [
    "import numpy as np"
   ]
  },
  {
   "cell_type": "code",
   "execution_count": 10,
   "metadata": {},
   "outputs": [
    {
     "name": "stdout",
     "output_type": "stream",
     "text": [
      "Precio por hora en A: $40.00, en B: $10.00 y en C: $20.00\n"
     ]
    }
   ],
   "source": [
    "coefficients = np.array([[2, 4, 5],\n",
    "                         [6, 9, 8],\n",
    "                         [4.1, 5, 3]])\n",
    "\n",
    "costs = np.array([220, 490, 274])\n",
    "\n",
    "prices_per_hour_1 = np.linalg.solve(coefficients, costs)\n",
    "\n",
    "price_A, price_B, price_C = prices_per_hour_1\n",
    "\n",
    "print(f\"Precio por hora en A: ${price_A:.2f}, en B: ${price_B:.2f} y en C: ${price_C:.2f}\")"
   ]
  },
  {
   "cell_type": "markdown",
   "metadata": {},
   "source": [
    "## B"
   ]
  },
  {
   "cell_type": "code",
   "execution_count": 11,
   "metadata": {},
   "outputs": [
    {
     "name": "stdout",
     "output_type": "stream",
     "text": [
      "Precio por hora en A: $20.00, en B: $31.54 y en C: $10.77\n"
     ]
    }
   ],
   "source": [
    "coefficients2 = np.array([[2, 4, 5],\n",
    "                         [6, 9, 8],\n",
    "                         [4.2, 5, 3]])\n",
    "\n",
    "costs2 = np.array([220, 490, 274])\n",
    "\n",
    "prices_per_hour_2 = np.linalg.solve(coefficients2, costs2)\n",
    "\n",
    "price_A, price_B, price_C = prices_per_hour_2\n",
    "\n",
    "print(f\"Precio por hora en A: ${price_A:.2f}, en B: ${price_B:.2f} y en C: ${price_C:.2f}\")"
   ]
  },
  {
   "cell_type": "code",
   "execution_count": 13,
   "metadata": {},
   "outputs": [
    {
     "name": "stdout",
     "output_type": "stream",
     "text": [
      "Error Relativo en la Solución: 0.6722784379348695\n"
     ]
    }
   ],
   "source": [
    "error_relativo = np.linalg.norm(prices_per_hour_2 - prices_per_hour_1) / np.linalg.norm(prices_per_hour_1)\n",
    "print(\"Error Relativo en la Solución:\", error_relativo)"
   ]
  }
 ],
 "metadata": {
  "kernelspec": {
   "display_name": "Algebra_Taller2_Camilo_David-f55ETFHP",
   "language": "python",
   "name": "python3"
  },
  "language_info": {
   "codemirror_mode": {
    "name": "ipython",
    "version": 3
   },
   "file_extension": ".py",
   "mimetype": "text/x-python",
   "name": "python",
   "nbconvert_exporter": "python",
   "pygments_lexer": "ipython3",
   "version": "3.11.5"
  },
  "orig_nbformat": 4
 },
 "nbformat": 4,
 "nbformat_minor": 2
}
