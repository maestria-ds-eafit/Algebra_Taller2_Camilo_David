{
 "cells": [
  {
   "cell_type": "markdown",
   "metadata": {},
   "source": [
    "# Problema 1 "
   ]
  },
  {
   "cell_type": "code",
   "execution_count": 129,
   "metadata": {},
   "outputs": [],
   "source": [
    "import numpy as np"
   ]
  },
  {
   "cell_type": "markdown",
   "metadata": {},
   "source": [
    "## A"
   ]
  },
  {
   "cell_type": "code",
   "execution_count": 130,
   "metadata": {},
   "outputs": [
    {
     "name": "stdout",
     "output_type": "stream",
     "text": [
      "Precio por hora en A: $40.00, en B: $10.00 y en C: $20.00\n"
     ]
    }
   ],
   "source": [
    "A = np.array([[2, 4, 5],\n",
    "                         [6, 9, 8],\n",
    "                         [4.1, 5, 3]])\n",
    "\n",
    "B = np.array([220, 490, 274])\n",
    "\n",
    "X  = np.linalg.solve(A, B)\n",
    "\n",
    "price_1, price_2, price_3 = X\n",
    "\n",
    "print(f\"Precio por hora en A: ${price_1:.2f}, en B: ${price_2:.2f} y en C: ${price_3:.2f}\")"
   ]
  },
  {
   "cell_type": "markdown",
   "metadata": {},
   "source": [
    "## B"
   ]
  },
  {
   "cell_type": "code",
   "execution_count": 131,
   "metadata": {},
   "outputs": [
    {
     "name": "stdout",
     "output_type": "stream",
     "text": [
      "Precio por hora en A: $20.000000, en B: $31.538462 y en C: $10.769231\n"
     ]
    }
   ],
   "source": [
    "A_bar = np.array([[2, 4, 5],\n",
    "                         [6, 9, 8],\n",
    "                         [4.2, 5, 3]])\n",
    "\n",
    "B = np.array([220, 490, 274])\n",
    "\n",
    "X_bar  = np.linalg.solve(A_bar, B)\n",
    "\n",
    "price_4, price_5, price_6 = X_bar \n",
    "\n",
    "print(f\"Precio por hora en A: ${price_4:.6f}, en B: ${price_5:.6f} y en C: ${price_6:.6f}\")"
   ]
  },
  {
   "cell_type": "markdown",
   "metadata": {},
   "source": [
    "Debido a que por un cambio menor en un coeficiente se produjo un cambio significativo en la solución, podemos concluir que el sistema está mal condicionado, y por lo tanto los resultados obtenidos con estos sistemas nos son confiables para tomar decisiones."
   ]
  },
  {
   "cell_type": "markdown",
   "metadata": {},
   "source": [
    "Calculamos el numero de condición K con norma infinito"
   ]
  },
  {
   "cell_type": "code",
   "execution_count": 132,
   "metadata": {},
   "outputs": [
    {
     "name": "stdout",
     "output_type": "stream",
     "text": [
      "Numero de condición K:\n",
      "766.0769230769237\n",
      "Matriz inversa:\n",
      "[[ 10.         -10.          10.        ]\n",
      " [-11.38461538  11.15384615 -10.76923077]\n",
      " [  5.30769231  -4.92307692   4.61538462]]\n",
      "Determinante de la matriz A:\n",
      "-1.299999999999999\n"
     ]
    }
   ],
   "source": [
    "K = np.linalg.cond(A, p=np.inf)\n",
    "inversa = np.linalg.inv(A)\n",
    "determinante = np.linalg.det(A)\n",
    "\n",
    "print(f\"Numero de condición K:\\n{K}\\nMatriz inversa:\\n{inversa}\\nDeterminante de la matriz A:\\n{determinante}\")\n"
   ]
  },
  {
   "cell_type": "markdown",
   "metadata": {},
   "source": [
    "Calculamos el error en la matriz EA, el error relativo de la matriz eA y la cota para el error relativo de la solución cota_eX."
   ]
  },
  {
   "cell_type": "code",
   "execution_count": 137,
   "metadata": {},
   "outputs": [
    {
     "name": "stdout",
     "output_type": "stream",
     "text": [
      "Error en la matriz:\n",
      "[[0.  0.  0. ]\n",
      " [0.  0.  0. ]\n",
      " [0.1 0.  0. ]]\n",
      "Error relativo de la matriz:\n",
      "0.004347826086956545\n",
      "Cota superior del error relativo de la solución:\n",
      "3.3307692307692514\n"
     ]
    }
   ],
   "source": [
    "EA = A_bar - A \n",
    "eA = np.linalg.norm(EA, np.inf)/np.linalg.norm(A, np.inf)\n",
    "cota_eX = K * eA\n",
    "print(f\"Error en la matriz:\\n{EA}\\nError relativo de la matriz:\\n{eA}\\nCota superior del error relativo de la solución:\\n{cota_eX}\")"
   ]
  },
  {
   "cell_type": "markdown",
   "metadata": {},
   "source": [
    "La magnitud del error relativo de la solución puede variar hasta un 333%"
   ]
  },
  {
   "cell_type": "markdown",
   "metadata": {},
   "source": [
    "Calculamos el error en la solución Ex y la norma del error relativo de la solución eX:"
   ]
  },
  {
   "cell_type": "code",
   "execution_count": 138,
   "metadata": {},
   "outputs": [
    {
     "name": "stdout",
     "output_type": "stream",
     "text": [
      "Error relativo de la matriz:\n",
      "0.004347826086956545\n",
      "Norma del error relativo de la solución:\n",
      "0.6829268292682976\n",
      "Cota superior del error relativo de la valor hora:\n",
      "523.174484052537\n"
     ]
    }
   ],
   "source": [
    "EX = X_bar - X\n",
    "eX = np.linalg.norm(EX, np.inf)/np.linalg.norm(X_bar, np.inf)\n",
    "cota_eA = K * eX\n",
    "print(f\"Error relativo de la matriz:\\n{eA}\\nNorma del error relativo de la solución:\\n{eX}\\nCota superior del error relativo de la valor hora:\\n{cota_eA}\")"
   ]
  },
  {
   "cell_type": "code",
   "execution_count": 135,
   "metadata": {},
   "outputs": [
    {
     "data": {
      "text/plain": [
       "523.174484052537"
      ]
     },
     "execution_count": 135,
     "metadata": {},
     "output_type": "execute_result"
    }
   ],
   "source": [
    "cota_eA = K * eX\n",
    "cota_eA"
   ]
  },
  {
   "cell_type": "markdown",
   "metadata": {},
   "source": [
    "Debido a que la variación en el vector solución es muy superiro a la variación de la matriz de coeficientes, se concluye que es un sistema mal condicionado."
   ]
  },
  {
   "cell_type": "markdown",
   "metadata": {},
   "source": [
    "## Referencias\n",
    "\n",
    "http://blog.espol.edu.ec/econde/files/2012/08/AN-13_SISTEMAS_MAL_CONDICIONADOS.pdf"
   ]
  }
 ],
 "metadata": {
  "kernelspec": {
   "display_name": "Algebra_Taller2_Camilo_David-f55ETFHP",
   "language": "python",
   "name": "python3"
  },
  "language_info": {
   "codemirror_mode": {
    "name": "ipython",
    "version": 3
   },
   "file_extension": ".py",
   "mimetype": "text/x-python",
   "name": "python",
   "nbconvert_exporter": "python",
   "pygments_lexer": "ipython3",
   "version": "3.11.5"
  },
  "orig_nbformat": 4
 },
 "nbformat": 4,
 "nbformat_minor": 2
}
